{
 "cells": [
  {
   "cell_type": "code",
   "execution_count": null,
   "id": "ab44ce19-0a65-4146-821b-f83cf6266731",
   "metadata": {},
   "outputs": [],
   "source": [
    "# embed chunk text"
   ]
  },
  {
   "cell_type": "code",
   "execution_count": null,
   "id": "dd17c97b-da37-4e10-a33a-44ae72b4bea6",
   "metadata": {},
   "outputs": [],
   "source": [
    "#pip install sentence-transformers"
   ]
  },
  {
   "cell_type": "code",
   "execution_count": 1,
   "id": "3732859d-49d7-4bf5-80b1-15fc9969cc1c",
   "metadata": {},
   "outputs": [],
   "source": [
    "def load_chunks_from_file(path):\n",
    "    with open(path, \"r\", encoding=\"utf-8\") as f:\n",
    "        text = f.read()\n",
    "\n",
    "    # Split on \"--- Chunk\"\n",
    "    raw_chunks = text.split('--- Chunk')[1:]  # skip the header before first chunk\n",
    "    chunks = [\"--- Chunk\" + chunk.strip() for chunk in raw_chunks if chunk.strip()]\n",
    "    return chunks\n",
    "    \n",
    "chunks = load_chunks_from_file('/Users/cheamenghour/Documents/Cambodia Agriculture/All_chunks/all_chunks.txt') # Load all chunk text\n"
   ]
  },
  {
   "cell_type": "code",
   "execution_count": 2,
   "id": "cafdc954-41e8-4228-9c1c-4b701984ac53",
   "metadata": {},
   "outputs": [
    {
     "name": "stdout",
     "output_type": "stream",
     "text": [
      "8\n"
     ]
    }
   ],
   "source": [
    "# Check chunk lens\n",
    "\n",
    "print(len(chunks))"
   ]
  },
  {
   "cell_type": "code",
   "execution_count": null,
   "id": "eddd21c0-2a72-4db4-9c54-c80032abfb60",
   "metadata": {},
   "outputs": [],
   "source": [
    "from sentence_transformers import SentenceTransformer\n",
    "import numpy as np\n",
    "embeddings_model = SentenceTransformer('distiluse-base-multilingual-cased')\n",
    "embeddings = embeddings_model.encode(chunks, convert_to_tensor=True)\n",
    "vectors = np.array(embeddings).astype(\"float32\")"
   ]
  },
  {
   "cell_type": "code",
   "execution_count": null,
   "id": "3e355a97-1c01-47f7-8bb2-f3f47c9a266b",
   "metadata": {},
   "outputs": [],
   "source": [
    "# Save database for further use\n",
    "\n",
    "import faiss\n",
    "import numpy as np\n",
    "\n",
    "dimension = vectors.shape[1]  \n",
    "index = faiss.IndexFlatL2(dimension)\n",
    "index.add(vectors)\n",
    "\n",
    "\n",
    "# Save index for later use\n",
    "faiss.write_index(index, '/Users/cheamenghour/Documents/Cambodia Agriculture/Vector database/khmer_agri_index.faiss') # Dir to save database\n"
   ]
  },
  {
   "cell_type": "code",
   "execution_count": null,
   "id": "1b3f29c9-9f27-41fb-a061-4fa4c38b4e32",
   "metadata": {},
   "outputs": [],
   "source": [
    "print(\"Chunks:\", len(chunks), \"| FAISS vectors:\", index.ntotal)"
   ]
  },
  {
   "cell_type": "code",
   "execution_count": null,
   "id": "404ff930",
   "metadata": {},
   "outputs": [],
   "source": []
  },
  {
   "cell_type": "code",
   "execution_count": null,
   "id": "51b3a026",
   "metadata": {},
   "outputs": [],
   "source": []
  },
  {
   "cell_type": "code",
   "execution_count": null,
   "id": "ce806c78",
   "metadata": {},
   "outputs": [],
   "source": [
    "# Reorder the chunk number\n",
    "\n",
    "import re\n",
    "\n",
    "def renumber_chunks(input_file, output_file):\n",
    "    with open(input_file, 'r', encoding='utf-8') as f:\n",
    "        lines = f.readlines()\n",
    "\n",
    "    chunk_counter = 1\n",
    "    new_lines = []\n",
    "    pattern = re.compile(r'^---\\s*Chunk\\s*\\d+\\s*---', re.IGNORECASE)\n",
    "\n",
    "    for line in lines:\n",
    "        if pattern.match(line):\n",
    "            new_line = f\"--- Chunk {chunk_counter} ---\\n\"\n",
    "            new_lines.append(new_line)\n",
    "            chunk_counter += 1\n",
    "        else:\n",
    "            new_lines.append(line)\n",
    "\n",
    "    with open(output_file, 'w', encoding='utf-8') as f:\n",
    "        f.writelines(new_lines)\n",
    "\n",
    "# Example usage\n",
    "renumber_chunks('/Users/cheamenghour/Documents/Cambodia Agriculture/All_chunks/all_chunks.txt', '/Users/cheamenghour/Documents/Cambodia Agriculture/All_chunks/all_chunks.txt')\n"
   ]
  },
  {
   "cell_type": "code",
   "execution_count": null,
   "id": "46d80649",
   "metadata": {},
   "outputs": [],
   "source": []
  },
  {
   "cell_type": "code",
   "execution_count": null,
   "id": "9d56cbe3",
   "metadata": {},
   "outputs": [],
   "source": []
  },
  {
   "cell_type": "code",
   "execution_count": null,
   "id": "f97005fa",
   "metadata": {},
   "outputs": [],
   "source": [
    "# Replace phrase in txt\n",
    "\n",
    "\n",
    "# File path to your chunk text file\n",
    "file_path = '/Users/cheamenghour/Documents/Cambodia Agriculture/All_chunks/all_chunks.txt'\n",
    "\n",
    "# Text to replace and replacement\n",
    "text_to_replace = \"\"\"\n",
    "Title: ស្រូវដំណើបស្បៃមង្គល (Damneab Sbai Mongkol Rice)\n",
    "Type: Specific Variety of peppers\"\"\"\n",
    "replacement_text = \"\"\"\n",
    "Title: ស្រូវដំណើបស្បៃមង្គល (Damneab Sbai Mongkol Rice)\n",
    "Type: Specific Variety of rice\n",
    "\"\"\"\n",
    "\n",
    "# Read, replace, and write back\n",
    "with open(file_path, \"r\", encoding=\"utf-8\") as file:\n",
    "    content = file.read()\n",
    "\n",
    "# Replace text\n",
    "updated_content = content.replace(text_to_replace, replacement_text)\n",
    "\n",
    "# Write the updated content back to the file\n",
    "with open(file_path, \"w\", encoding=\"utf-8\") as file:\n",
    "    file.write(updated_content)\n",
    "\n",
    "print('/Users/cheamenghour/Documents/Cambodia Agriculture/All_chunks/all_chunks.txt')\n"
   ]
  }
 ],
 "metadata": {
  "kernelspec": {
   "display_name": "base",
   "language": "python",
   "name": "python3"
  },
  "language_info": {
   "codemirror_mode": {
    "name": "ipython",
    "version": 3
   },
   "file_extension": ".py",
   "mimetype": "text/x-python",
   "name": "python",
   "nbconvert_exporter": "python",
   "pygments_lexer": "ipython3",
   "version": "3.12.7"
  }
 },
 "nbformat": 4,
 "nbformat_minor": 5
}
